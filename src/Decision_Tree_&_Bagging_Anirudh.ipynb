{
  "nbformat": 4,
  "nbformat_minor": 0,
  "metadata": {
    "accelerator": "GPU",
    "colab": {
      "name": "Untitled5.ipynb",
      "provenance": [],
      "collapsed_sections": []
    },
    "kernelspec": {
      "display_name": "Python 3",
      "name": "python3"
    }
  },
  "cells": [
    {
      "cell_type": "code",
      "metadata": {
        "id": "Udo12slzwDSd"
      },
      "source": [
        "# The following 5 code cells download the dataset from kaggle\n",
        "!pip install -q kaggle\n"
      ],
      "execution_count": 2,
      "outputs": []
    },
    {
      "cell_type": "code",
      "metadata": {
        "colab": {
          "resources": {
            "http://localhost:8080/nbextensions/google.colab/files.js": {
              "data": "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",
              "ok": true,
              "headers": [
                [
                  "content-type",
                  "application/javascript"
                ]
              ],
              "status": 200,
              "status_text": ""
            }
          },
          "base_uri": "https://localhost:8080/",
          "height": 89
        },
        "id": "YfjJs159zsiV",
        "outputId": "852298ac-03bb-4315-b6a7-092386ec512d"
      },
      "source": [
        "from google.colab import files\n",
        "\n",
        "files.upload()"
      ],
      "execution_count": 3,
      "outputs": [
        {
          "output_type": "display_data",
          "data": {
            "text/html": [
              "\n",
              "     <input type=\"file\" id=\"files-62cf8e81-2d0b-41da-9237-6f49196628b7\" name=\"files[]\" multiple disabled\n",
              "        style=\"border:none\" />\n",
              "     <output id=\"result-62cf8e81-2d0b-41da-9237-6f49196628b7\">\n",
              "      Upload widget is only available when the cell has been executed in the\n",
              "      current browser session. Please rerun this cell to enable.\n",
              "      </output>\n",
              "      <script src=\"/nbextensions/google.colab/files.js\"></script> "
            ],
            "text/plain": [
              "<IPython.core.display.HTML object>"
            ]
          },
          "metadata": {
            "tags": []
          }
        },
        {
          "output_type": "stream",
          "text": [
            "Saving kaggle.json to kaggle.json\n"
          ],
          "name": "stdout"
        },
        {
          "output_type": "execute_result",
          "data": {
            "text/plain": [
              "{'kaggle.json': b'{\"username\":\"anirudhragam19\",\"key\":\"f5750430c16e8587588e2a5569998b0e\"}'}"
            ]
          },
          "metadata": {
            "tags": []
          },
          "execution_count": 3
        }
      ]
    },
    {
      "cell_type": "code",
      "metadata": {
        "id": "H7ENsqXq0hXJ"
      },
      "source": [
        "! mkdir ~/.kaggle\n",
        "! cp kaggle.json ~/.kaggle/\n",
        "! chmod 600 ~/.kaggle/kaggle.json\n"
      ],
      "execution_count": 4,
      "outputs": []
    },
    {
      "cell_type": "code",
      "metadata": {
        "colab": {
          "base_uri": "https://localhost:8080/"
        },
        "id": "4ZUwLs9Q0iwL",
        "outputId": "9380f101-af5b-4052-882f-67e50fb845e3"
      },
      "source": [
        "! kaggle datasets list\n"
      ],
      "execution_count": 5,
      "outputs": [
        {
          "output_type": "stream",
          "text": [
            "Warning: Looks like you're using an outdated API Version, please consider updating (server 1.5.9 / client 1.5.4)\n",
            "ref                                                          title                                           size  lastUpdated          downloadCount  \n",
            "-----------------------------------------------------------  ---------------------------------------------  -----  -------------------  -------------  \n",
            "alexgude/california-traffic-collision-data-from-switrs       California Traffic Collision Data from SWITRS    1GB  2020-11-22 16:51:55            188  \n",
            "babyoda/women-entrepreneurship-and-labor-force               Women Entrepreneurship and Labor Force           1KB  2020-11-21 08:38:51           1078  \n",
            "szymonjanowski/internet-articles-data-with-users-engagement  Internet news data with readers engagement       3MB  2020-11-21 17:09:57            443  \n",
            "sakshigoyal7/credit-card-customers                           Credit Card customers                          379KB  2020-11-19 07:38:44           1868  \n",
            "imoore/2020-us-general-election-turnout-rates                2020 US General Election Turnout rates           4KB  2020-11-26 00:21:15            666  \n",
            "afrniomelo/3w-dataset                                        3W Dataset - Undesirable events in oil wells   658MB  2020-11-21 21:22:49             72  \n",
            "patrickb1912/ipl-complete-dataset-20082020                   IPL Complete Dataset (2008-2020)                 1MB  2020-11-23 06:53:37            498  \n",
            "mrmorj/us-politicians-twitter-dataset                        US Politicians Twitter Dataset                  68KB  2020-11-23 09:54:05            162  \n",
            "arioboo/clumps-in-vela-galaxy-images                         Clumps in VELA galaxy images                     8MB  2020-11-23 13:42:09             56  \n",
            "shivamb/netflix-shows                                        Netflix Movies and TV Shows                    971KB  2020-01-20 07:33:56          65689  \n",
            "unanimad/us-election-2020                                    US Election 2020                               430KB  2020-11-28 13:53:29           9463  \n",
            "antgoldbloom/covid19-data-from-john-hopkins-university       COVID-19 data from John Hopkins University       3MB  2020-11-28 16:58:47           5219  \n",
            "manchunhui/us-election-2020-tweets                           US Election 2020 Tweets                        353MB  2020-11-09 18:51:59           3713  \n",
            "sootersaalu/amazon-top-50-bestselling-books-2009-2019        Amazon Top 50 Bestselling Books 2009 - 2019     15KB  2020-10-13 09:39:21           6436  \n",
            "terenceshin/covid19s-impact-on-airport-traffic               COVID-19's Impact on Airport Traffic           106KB  2020-10-19 12:40:17           5856  \n",
            "nehaprabhavalkar/indian-food-101                             Indian Food 101                                  7KB  2020-09-30 06:23:43           8525  \n",
            "datasnaek/youtube-new                                        Trending YouTube Video Statistics              201MB  2019-06-03 00:56:47         117706  \n",
            "zynicide/wine-reviews                                        Wine Reviews                                    51MB  2017-11-27 17:08:04         120782  \n",
            "google/tinyquickdraw                                         QuickDraw Sketches                              11GB  2018-04-18 19:38:04           2546  \n",
            "karangadiya/fifa19                                           FIFA 19 complete player dataset                  2MB  2018-12-21 03:52:59         106515  \n"
          ],
          "name": "stdout"
        }
      ]
    },
    {
      "cell_type": "code",
      "metadata": {
        "colab": {
          "base_uri": "https://localhost:8080/"
        },
        "id": "M5ig_cPh0mE4",
        "outputId": "f9c1a915-37c4-4b48-943c-e5d69438199b"
      },
      "source": [
        "! mkdir traffic_dataset\n",
        "! kaggle datasets download -d silicon99/dft-accident-data\n",
        "! unzip dft-accident-data.zip -d traffic_dataset/\n"
      ],
      "execution_count": 6,
      "outputs": [
        {
          "output_type": "stream",
          "text": [
            "Downloading dft-accident-data.zip to /content\n",
            " 87% 97.0M/112M [00:01<00:00, 56.0MB/s]\n",
            "100% 112M/112M [00:01<00:00, 77.0MB/s] \n",
            "Archive:  dft-accident-data.zip\n",
            "  inflating: traffic_dataset/Accidents0515.csv  \n",
            "  inflating: traffic_dataset/Casualties0515.csv  \n",
            "  inflating: traffic_dataset/Vehicles0515.csv  \n",
            "  inflating: traffic_dataset/contextCSVs/Accident_Severity.csv  \n",
            "  inflating: traffic_dataset/contextCSVs/Age_Band.csv  \n",
            "  inflating: traffic_dataset/contextCSVs/Casualty_Class.csv  \n",
            "  inflating: traffic_dataset/contextCSVs/Casualty_Severity.csv  \n",
            "  inflating: traffic_dataset/contextCSVs/Casualty_Type.csv  \n",
            "  inflating: traffic_dataset/contextCSVs/Day_of_Week.csv  \n",
            "  inflating: traffic_dataset/contextCSVs/Journey_Purpose.csv  \n",
            "  inflating: traffic_dataset/contextCSVs/Junction_Control.csv  \n",
            "  inflating: traffic_dataset/contextCSVs/Junction_Detail.csv  \n",
            "  inflating: traffic_dataset/contextCSVs/Junction_Location.csv  \n",
            "  inflating: traffic_dataset/contextCSVs/Light_Conditions.csv  \n",
            "  inflating: traffic_dataset/contextCSVs/Local_Authority_District.csv  \n",
            "  inflating: traffic_dataset/contextCSVs/Local_Authority_Highway.csv  \n",
            "  inflating: traffic_dataset/contextCSVs/Ped_Cross_Human.csv  \n",
            "  inflating: traffic_dataset/contextCSVs/Ped_Cross_Physical.csv  \n",
            "  inflating: traffic_dataset/contextCSVs/Ped_Location.csv  \n",
            "  inflating: traffic_dataset/contextCSVs/Ped_Movement.csv  \n",
            "  inflating: traffic_dataset/contextCSVs/Point_of_Impact.csv  \n",
            "  inflating: traffic_dataset/contextCSVs/Police_Force.csv  \n",
            "  inflating: traffic_dataset/contextCSVs/Police_Officer_Attend.csv  \n",
            "  inflating: traffic_dataset/contextCSVs/Road-Accident-Safety-Data-Guide.csv  \n",
            "  inflating: traffic_dataset/contextCSVs/Road_Class.csv  \n",
            "  inflating: traffic_dataset/contextCSVs/Road_Type.csv  \n",
            "  inflating: traffic_dataset/contextCSVs/Sex_of_Driver.csv  \n",
            "  inflating: traffic_dataset/contextCSVs/Urban_Rural.csv  \n",
            "  inflating: traffic_dataset/contextCSVs/Vehicle_Location.csv  \n",
            "  inflating: traffic_dataset/contextCSVs/Vehicle_Manoeuvre.csv  \n",
            "  inflating: traffic_dataset/contextCSVs/Vehicle_Type.csv  \n",
            "  inflating: traffic_dataset/tidydata.sh  \n"
          ],
          "name": "stdout"
        }
      ]
    },
    {
      "cell_type": "code",
      "metadata": {
        "id": "uZj-uWym0qtP",
        "colab": {
          "base_uri": "https://localhost:8080/",
          "height": 241
        },
        "outputId": "373060b8-d47a-4d8b-a2cf-c204a134d5cd"
      },
      "source": [
        "#Importing the necessary libraries\n",
        "import pandas as pd\n",
        "import matplotlib.pyplot as plt\n",
        "import numpy as np\n",
        "from sklearn.tree import DecisionTreeClassifier \n",
        "from sklearn.model_selection import train_test_split \n",
        "from sklearn import metrics \n",
        "from sklearn.metrics import precision_score,recall_score, confusion_matrix, classification_report, accuracy_score, f1_score\n",
        "\n",
        "#Reading the csv file into a pandas dataframe\n",
        "accidents = pd.read_csv('traffic_dataset/Accidents0515.csv')\n",
        "\n",
        "#Displaying the first 5 rows of the dataframe\n",
        "accidents.head()\n",
        "\n"
      ],
      "execution_count": 7,
      "outputs": [
        {
          "output_type": "execute_result",
          "data": {
            "text/html": [
              "<div>\n",
              "<style scoped>\n",
              "    .dataframe tbody tr th:only-of-type {\n",
              "        vertical-align: middle;\n",
              "    }\n",
              "\n",
              "    .dataframe tbody tr th {\n",
              "        vertical-align: top;\n",
              "    }\n",
              "\n",
              "    .dataframe thead th {\n",
              "        text-align: right;\n",
              "    }\n",
              "</style>\n",
              "<table border=\"1\" class=\"dataframe\">\n",
              "  <thead>\n",
              "    <tr style=\"text-align: right;\">\n",
              "      <th></th>\n",
              "      <th>Accident_Index</th>\n",
              "      <th>Location_Easting_OSGR</th>\n",
              "      <th>Location_Northing_OSGR</th>\n",
              "      <th>Longitude</th>\n",
              "      <th>Latitude</th>\n",
              "      <th>Police_Force</th>\n",
              "      <th>Accident_Severity</th>\n",
              "      <th>Number_of_Vehicles</th>\n",
              "      <th>Number_of_Casualties</th>\n",
              "      <th>Date</th>\n",
              "      <th>Day_of_Week</th>\n",
              "      <th>Time</th>\n",
              "      <th>Local_Authority_(District)</th>\n",
              "      <th>Local_Authority_(Highway)</th>\n",
              "      <th>1st_Road_Class</th>\n",
              "      <th>1st_Road_Number</th>\n",
              "      <th>Road_Type</th>\n",
              "      <th>Speed_limit</th>\n",
              "      <th>Junction_Detail</th>\n",
              "      <th>Junction_Control</th>\n",
              "      <th>2nd_Road_Class</th>\n",
              "      <th>2nd_Road_Number</th>\n",
              "      <th>Pedestrian_Crossing-Human_Control</th>\n",
              "      <th>Pedestrian_Crossing-Physical_Facilities</th>\n",
              "      <th>Light_Conditions</th>\n",
              "      <th>Weather_Conditions</th>\n",
              "      <th>Road_Surface_Conditions</th>\n",
              "      <th>Special_Conditions_at_Site</th>\n",
              "      <th>Carriageway_Hazards</th>\n",
              "      <th>Urban_or_Rural_Area</th>\n",
              "      <th>Did_Police_Officer_Attend_Scene_of_Accident</th>\n",
              "      <th>LSOA_of_Accident_Location</th>\n",
              "    </tr>\n",
              "  </thead>\n",
              "  <tbody>\n",
              "    <tr>\n",
              "      <th>0</th>\n",
              "      <td>200501BS00001</td>\n",
              "      <td>525680.0</td>\n",
              "      <td>178240.0</td>\n",
              "      <td>-0.191170</td>\n",
              "      <td>51.489096</td>\n",
              "      <td>1</td>\n",
              "      <td>2</td>\n",
              "      <td>1</td>\n",
              "      <td>1</td>\n",
              "      <td>04/01/2005</td>\n",
              "      <td>3</td>\n",
              "      <td>17:42</td>\n",
              "      <td>12</td>\n",
              "      <td>E09000020</td>\n",
              "      <td>3</td>\n",
              "      <td>3218</td>\n",
              "      <td>6</td>\n",
              "      <td>30</td>\n",
              "      <td>0</td>\n",
              "      <td>-1</td>\n",
              "      <td>-1</td>\n",
              "      <td>0</td>\n",
              "      <td>0</td>\n",
              "      <td>1</td>\n",
              "      <td>1</td>\n",
              "      <td>2</td>\n",
              "      <td>2</td>\n",
              "      <td>0</td>\n",
              "      <td>0</td>\n",
              "      <td>1</td>\n",
              "      <td>1</td>\n",
              "      <td>E01002849</td>\n",
              "    </tr>\n",
              "    <tr>\n",
              "      <th>1</th>\n",
              "      <td>200501BS00002</td>\n",
              "      <td>524170.0</td>\n",
              "      <td>181650.0</td>\n",
              "      <td>-0.211708</td>\n",
              "      <td>51.520075</td>\n",
              "      <td>1</td>\n",
              "      <td>3</td>\n",
              "      <td>1</td>\n",
              "      <td>1</td>\n",
              "      <td>05/01/2005</td>\n",
              "      <td>4</td>\n",
              "      <td>17:36</td>\n",
              "      <td>12</td>\n",
              "      <td>E09000020</td>\n",
              "      <td>4</td>\n",
              "      <td>450</td>\n",
              "      <td>3</td>\n",
              "      <td>30</td>\n",
              "      <td>6</td>\n",
              "      <td>2</td>\n",
              "      <td>5</td>\n",
              "      <td>0</td>\n",
              "      <td>0</td>\n",
              "      <td>5</td>\n",
              "      <td>4</td>\n",
              "      <td>1</td>\n",
              "      <td>1</td>\n",
              "      <td>0</td>\n",
              "      <td>0</td>\n",
              "      <td>1</td>\n",
              "      <td>1</td>\n",
              "      <td>E01002909</td>\n",
              "    </tr>\n",
              "    <tr>\n",
              "      <th>2</th>\n",
              "      <td>200501BS00003</td>\n",
              "      <td>524520.0</td>\n",
              "      <td>182240.0</td>\n",
              "      <td>-0.206458</td>\n",
              "      <td>51.525301</td>\n",
              "      <td>1</td>\n",
              "      <td>3</td>\n",
              "      <td>2</td>\n",
              "      <td>1</td>\n",
              "      <td>06/01/2005</td>\n",
              "      <td>5</td>\n",
              "      <td>00:15</td>\n",
              "      <td>12</td>\n",
              "      <td>E09000020</td>\n",
              "      <td>5</td>\n",
              "      <td>0</td>\n",
              "      <td>6</td>\n",
              "      <td>30</td>\n",
              "      <td>0</td>\n",
              "      <td>-1</td>\n",
              "      <td>-1</td>\n",
              "      <td>0</td>\n",
              "      <td>0</td>\n",
              "      <td>0</td>\n",
              "      <td>4</td>\n",
              "      <td>1</td>\n",
              "      <td>1</td>\n",
              "      <td>0</td>\n",
              "      <td>0</td>\n",
              "      <td>1</td>\n",
              "      <td>1</td>\n",
              "      <td>E01002857</td>\n",
              "    </tr>\n",
              "    <tr>\n",
              "      <th>3</th>\n",
              "      <td>200501BS00004</td>\n",
              "      <td>526900.0</td>\n",
              "      <td>177530.0</td>\n",
              "      <td>-0.173862</td>\n",
              "      <td>51.482442</td>\n",
              "      <td>1</td>\n",
              "      <td>3</td>\n",
              "      <td>1</td>\n",
              "      <td>1</td>\n",
              "      <td>07/01/2005</td>\n",
              "      <td>6</td>\n",
              "      <td>10:35</td>\n",
              "      <td>12</td>\n",
              "      <td>E09000020</td>\n",
              "      <td>3</td>\n",
              "      <td>3220</td>\n",
              "      <td>6</td>\n",
              "      <td>30</td>\n",
              "      <td>0</td>\n",
              "      <td>-1</td>\n",
              "      <td>-1</td>\n",
              "      <td>0</td>\n",
              "      <td>0</td>\n",
              "      <td>0</td>\n",
              "      <td>1</td>\n",
              "      <td>1</td>\n",
              "      <td>1</td>\n",
              "      <td>0</td>\n",
              "      <td>0</td>\n",
              "      <td>1</td>\n",
              "      <td>1</td>\n",
              "      <td>E01002840</td>\n",
              "    </tr>\n",
              "    <tr>\n",
              "      <th>4</th>\n",
              "      <td>200501BS00005</td>\n",
              "      <td>528060.0</td>\n",
              "      <td>179040.0</td>\n",
              "      <td>-0.156618</td>\n",
              "      <td>51.495752</td>\n",
              "      <td>1</td>\n",
              "      <td>3</td>\n",
              "      <td>1</td>\n",
              "      <td>1</td>\n",
              "      <td>10/01/2005</td>\n",
              "      <td>2</td>\n",
              "      <td>21:13</td>\n",
              "      <td>12</td>\n",
              "      <td>E09000020</td>\n",
              "      <td>6</td>\n",
              "      <td>0</td>\n",
              "      <td>6</td>\n",
              "      <td>30</td>\n",
              "      <td>0</td>\n",
              "      <td>-1</td>\n",
              "      <td>-1</td>\n",
              "      <td>0</td>\n",
              "      <td>0</td>\n",
              "      <td>0</td>\n",
              "      <td>7</td>\n",
              "      <td>1</td>\n",
              "      <td>2</td>\n",
              "      <td>0</td>\n",
              "      <td>0</td>\n",
              "      <td>1</td>\n",
              "      <td>1</td>\n",
              "      <td>E01002863</td>\n",
              "    </tr>\n",
              "  </tbody>\n",
              "</table>\n",
              "</div>"
            ],
            "text/plain": [
              "  Accident_Index  ...  LSOA_of_Accident_Location\n",
              "0  200501BS00001  ...                  E01002849\n",
              "1  200501BS00002  ...                  E01002909\n",
              "2  200501BS00003  ...                  E01002857\n",
              "3  200501BS00004  ...                  E01002840\n",
              "4  200501BS00005  ...                  E01002863\n",
              "\n",
              "[5 rows x 32 columns]"
            ]
          },
          "metadata": {
            "tags": []
          },
          "execution_count": 7
        }
      ]
    },
    {
      "cell_type": "code",
      "metadata": {
        "id": "8Ut1QW6D5LDl",
        "colab": {
          "base_uri": "https://localhost:8080/"
        },
        "outputId": "04df3257-7dfa-448e-9b6e-fdae4608d281"
      },
      "source": [
        "# cols contains all the columns in the dataset that we are using to train the model, including the target variable i.e. Accident Severity\n",
        "cols = ['Longitude','Latitude','1st_Road_Number','Day_of_Week','Light_Conditions','Weather_Conditions','Speed_limit','Number_of_Vehicles','Road_Surface_Conditions','Accident_Severity']\n",
        "acc = accidents[cols]\n",
        "\n",
        "#Dropping rows with missing alues\n",
        "acc.dropna(inplace=True)\n",
        "\n",
        "# Splitting the dataset into the X's and y's of the model i.e. the inputs to the model and the outputs\n",
        "X = acc[cols[:-1]]\n",
        "y = acc[cols[-1]]\n",
        "\n",
        "# Splitting data into train and test sets. We're using a 80-20 split of the dataset \n",
        "X_train, X_test, y_train, y_test = train_test_split(X, y, test_size=0.2, random_state=1) \n",
        "\n",
        "\n",
        "\n",
        "\n"
      ],
      "execution_count": 8,
      "outputs": [
        {
          "output_type": "stream",
          "text": [
            "/usr/local/lib/python3.6/dist-packages/ipykernel_launcher.py:6: SettingWithCopyWarning: \n",
            "A value is trying to be set on a copy of a slice from a DataFrame\n",
            "\n",
            "See the caveats in the documentation: https://pandas.pydata.org/pandas-docs/stable/user_guide/indexing.html#returning-a-view-versus-a-copy\n",
            "  \n"
          ],
          "name": "stderr"
        }
      ]
    },
    {
      "cell_type": "code",
      "metadata": {
        "id": "X0p-xu5H69le"
      },
      "source": [
        "from sklearn.metrics import classification_report\n",
        "from sklearn.metrics import accuracy_score\n",
        "\n",
        "# Creating the decision tree classifier \n",
        "clf = DecisionTreeClassifier()\n",
        "\n",
        "# Fitting the decision tree with the train set\n",
        "clf = clf.fit(X_train,y_train)\n",
        "\n",
        "#Predicting on the test set\n",
        "y_pred = clf.predict(X_test)\n",
        "\n",
        "print('Accuracy: ',accuracy_score(y_test,y_pred))\n",
        "print(classification_report(y_test,y_pred))\n",
        "\n",
        "\n",
        "\n"
      ],
      "execution_count": 9,
      "outputs": []
    },
    {
      "cell_type": "code",
      "metadata": {
        "id": "iW5OCXHbIXO4"
      },
      "source": [
        "#Bagging with 10 decision tree classifiers with Bootstrapping\n",
        "from sklearn.ensemble import BaggingClassifier \n",
        "\n",
        "dt = DecisionTreeClassifier() \n",
        "\n",
        "#Creating the bagging model instance\n",
        "model = BaggingClassifier(base_estimator = dt, \n",
        "                          n_estimators = 10, \n",
        "                          bootstrap=True) \n",
        "\n",
        "#Fitting the model on the training set\n",
        "model = model.fit(X_train,y_train)\n",
        "\n",
        "#Predicting on the test set\n",
        "y_pred1 = model.predict(X_test)\n",
        "\n",
        "print('Accuracy: ',accuracy_score(y_test,y_pred1))\n",
        "print(classification_report(y_test,y_pred1))\n",
        "\n",
        "\n"
      ],
      "execution_count": 13,
      "outputs": []
    },
    {
      "cell_type": "code",
      "metadata": {
        "id": "CLyrd5c0KFn5"
      },
      "source": [
        ""
      ],
      "execution_count": null,
      "outputs": []
    },
    {
      "cell_type": "code",
      "metadata": {
        "id": "_pK0GpzaKd3j",
        "colab": {
          "base_uri": "https://localhost:8080/"
        },
        "outputId": "50fab492-d0e6-4e49-b76d-48d00c772c9d"
      },
      "source": [
        "# Bagging with 10 decision tree classifiers without Bootstrapping\n",
        "\n",
        "#Creating the bagging model instance\n",
        "model = BaggingClassifier(base_estimator = dt, \n",
        "                          n_estimators = 10, \n",
        "                          bootstrap=False) \n",
        "\n",
        "#Fitting the model on the training set\n",
        "model = model.fit(X_train,y_train)\n",
        "\n",
        "#Predicting on the test set\n",
        "y_pred2 = model.predict(X_test)\n",
        "\n",
        "print('Accuracy: ',accuracy_score(y_test,y_pred2))\n",
        "print(classification_report(y_test,y_pred2))\n",
        "\n"
      ],
      "execution_count": 10,
      "outputs": [
        {
          "output_type": "stream",
          "text": [
            "Accuracy:  0.743124882407618\n",
            "              precision    recall  f1-score   support\n",
            "\n",
            "           1       0.03      0.04      0.03      4553\n",
            "           2       0.17      0.19      0.18     48299\n",
            "           3       0.86      0.84      0.85    303251\n",
            "\n",
            "    accuracy                           0.74    356103\n",
            "   macro avg       0.35      0.36      0.35    356103\n",
            "weighted avg       0.76      0.74      0.75    356103\n",
            "\n"
          ],
          "name": "stdout"
        }
      ]
    },
    {
      "cell_type": "code",
      "metadata": {
        "colab": {
          "base_uri": "https://localhost:8080/"
        },
        "id": "Rz8cR2z5M3un",
        "outputId": "95a486bc-070d-4b46-e45d-f5674ca4421f"
      },
      "source": [
        "# Bagging with 50 decision tree classifiers with Bootstrapping\n",
        "\n",
        "#Creating the bagging model instance\n",
        "model = BaggingClassifier(base_estimator = dt, \n",
        "                          n_estimators = 50, \n",
        "                          bootstrap=True) \n",
        "\n",
        "#Fitting the model on the training set\n",
        "model = model.fit(X_train,y_train)\n",
        "\n",
        "#Predicting on the test set\n",
        "y_pred2 = model.predict(X_test)\n",
        "\n",
        "print('Accuracy: ',accuracy_score(y_test,y_pred2))\n",
        "print(classification_report(y_test,y_pred2))\n",
        "\n"
      ],
      "execution_count": 11,
      "outputs": [
        {
          "output_type": "stream",
          "text": [
            "Accuracy:  0.8268983973737936\n",
            "              precision    recall  f1-score   support\n",
            "\n",
            "           1       0.06      0.01      0.02      4553\n",
            "           2       0.21      0.06      0.10     48299\n",
            "           3       0.86      0.96      0.91    303251\n",
            "\n",
            "    accuracy                           0.83    356103\n",
            "   macro avg       0.37      0.34      0.34    356103\n",
            "weighted avg       0.76      0.83      0.78    356103\n",
            "\n"
          ],
          "name": "stdout"
        }
      ]
    },
    {
      "cell_type": "code",
      "metadata": {
        "colab": {
          "base_uri": "https://localhost:8080/"
        },
        "id": "QNUnd81dPXls",
        "outputId": "d1afdc30-afda-47e1-c103-5c0c2d2138f9"
      },
      "source": [
        "# Bagging with 100 decision tree classifiers with Bootstrapping\n",
        "\n",
        "#Creating the bagging model instance\n",
        "model = BaggingClassifier(base_estimator = dt, \n",
        "                          n_estimators = 100, \n",
        "                          bootstrap=True) \n",
        "\n",
        "#Fitting the model on the training set\n",
        "model = model.fit(X_train,y_train)\n",
        "\n",
        "#Predicting on the test set\n",
        "y_pred2 = model.predict(X_test)\n",
        "\n",
        "print('Accuracy: ',accuracy_score(y_test,y_pred2))\n",
        "print(classification_report(y_test,y_pred2))"
      ],
      "execution_count": 14,
      "outputs": [
        {
          "output_type": "stream",
          "text": [
            "Accuracy:  0.8289090515946229\n",
            "              precision    recall  f1-score   support\n",
            "\n",
            "           1       0.06      0.01      0.01      4553\n",
            "           2       0.21      0.06      0.09     48299\n",
            "           3       0.86      0.96      0.91    303251\n",
            "\n",
            "    accuracy                           0.83    356103\n",
            "   macro avg       0.37      0.34      0.34    356103\n",
            "weighted avg       0.76      0.83      0.78    356103\n",
            "\n"
          ],
          "name": "stdout"
        }
      ]
    }
  ]
}